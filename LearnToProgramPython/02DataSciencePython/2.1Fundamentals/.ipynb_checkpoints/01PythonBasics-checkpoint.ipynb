{
 "cells": [
  {
   "cell_type": "markdown",
   "metadata": {},
   "source": [
    "# Types and Sequences\n",
    "\n",
    "The absence of static typing in Python doesn't mean that there aren't types. The Python language has a built in function called `type` which will show you what type a given reference is. As mentioned in the previous course, some of the commom types includes strings, none type, intergers, float, and you can also have function type. "
   ]
  },
  {
   "cell_type": "code",
   "execution_count": 1,
   "metadata": {},
   "outputs": [
    {
     "data": {
      "text/plain": [
       "str"
      ]
     },
     "execution_count": 1,
     "metadata": {},
     "output_type": "execute_result"
    }
   ],
   "source": [
    "type(\"I am a string\")"
   ]
  },
  {
   "cell_type": "code",
   "execution_count": 2,
   "metadata": {},
   "outputs": [
    {
     "data": {
      "text/plain": [
       "NoneType"
      ]
     },
     "execution_count": 2,
     "metadata": {},
     "output_type": "execute_result"
    }
   ],
   "source": [
    "type(None)"
   ]
  },
  {
   "cell_type": "code",
   "execution_count": 3,
   "metadata": {},
   "outputs": [
    {
     "data": {
      "text/plain": [
       "int"
      ]
     },
     "execution_count": 3,
     "metadata": {},
     "output_type": "execute_result"
    }
   ],
   "source": [
    "type(1)"
   ]
  },
  {
   "cell_type": "code",
   "execution_count": 4,
   "metadata": {},
   "outputs": [
    {
     "data": {
      "text/plain": [
       "float"
      ]
     },
     "execution_count": 4,
     "metadata": {},
     "output_type": "execute_result"
    }
   ],
   "source": [
    "type(1.2)"
   ]
  },
  {
   "cell_type": "code",
   "execution_count": 10,
   "metadata": {},
   "outputs": [
    {
     "data": {
      "text/plain": [
       "list"
      ]
     },
     "execution_count": 10,
     "metadata": {},
     "output_type": "execute_result"
    }
   ],
   "source": [
    "x = [1,2,3,4,5,6]\n",
    "type(x)"
   ]
  },
  {
   "cell_type": "code",
   "execution_count": 5,
   "metadata": {},
   "outputs": [
    {
     "data": {
      "text/plain": [
       "builtin_function_or_method"
      ]
     },
     "execution_count": 5,
     "metadata": {},
     "output_type": "execute_result"
    }
   ],
   "source": [
    "type(sum)"
   ]
  },
  {
   "cell_type": "markdown",
   "metadata": {},
   "source": [
    "Typed objects have properties associated with them, and these properties can be data or functions. Python is built around different kinds of sequences or collection types. And there are three native kinds of collections which we have talked before: tuples, lists and dictionaries. \n",
    "\n",
    "Let's have a brief review here. A tuple is a sequence of variables which itself is immutable. That means that a tuple has items in order but it can not be changed once created. We write tuples using parentheses and we can mix types for the contents of tuple."
   ]
  },
  {
   "cell_type": "code",
   "execution_count": null,
   "metadata": {
    "collapsed": true
   },
   "outputs": [],
   "source": [
    "x = (1, 'a', 2, 'b')"
   ]
  },
  {
   "cell_type": "markdown",
   "metadata": {},
   "source": [
    "Lists are very similar, but they can be mutable. You can change the number of elements, and the element values."
   ]
  },
  {
   "cell_type": "code",
   "execution_count": 11,
   "metadata": {
    "collapsed": true
   },
   "outputs": [],
   "source": [
    "x = [1, 2, 3, 4, 5, 6]"
   ]
  },
  {
   "cell_type": "markdown",
   "metadata": {},
   "source": [
    "There are a couple of different ways to change the contents of a list. One is through the `append` function which allows you to append new items to the end of the list:"
   ]
  },
  {
   "cell_type": "code",
   "execution_count": 12,
   "metadata": {},
   "outputs": [
    {
     "name": "stdout",
     "output_type": "stream",
     "text": [
      "[1, 2, 3, 4, 5, 6, 7]\n"
     ]
    }
   ],
   "source": [
    "x.append(7)\n",
    "print(x)"
   ]
  },
  {
   "cell_type": "markdown",
   "metadata": {},
   "source": [
    "Both list and tuple are iterable types, so you can write loops to go through every value they hold. You can use the norm `for` statement.\n",
    "\n",
    "Lists and tuples can also be accessed by using the square bracket `[]` operator, which is called the indexing operator. The first item of the list starts at position 0 and to get the length of the list, we use the built in len function. There are some other common functions that you might expect like min and max which will find the minimum or maximum values in a given list or tuple. \n",
    "\n",
    "Python lists and tuples also have some basic mathematical operations that can be allowed on them. The plus (`+`) sign concatenates lists for instance. And the asterisks (`*`) repeats the values of a list. A very common operator is the `in` operator. This looks at set membership and returns a boolean value of true or false depending on whether one item is in a given list.\n",
    "\n",
    "**Dictionaries** are similar to lists and tuples in that they hold a collection of items, but they're labeled collections which **do not have an ordering**. This means that for each value you insert into the dictionary, you must also give a **key** to get that value out. In other languages the structure is often called a **map**. And in Python we use curly braces (`{}`) to denote a dictionary. Here is an example where we might link names to email addresses. You can see that we indicate each item of the dictionary when creating it using a pair of values separated by colons. Then you can retrieve a value for a given label using the indexing operator. \n",
    "\n",
    "The types you use for indices or values in the dictionary can be anything. And this could be a mixture of types if you prefer. "
   ]
  },
  {
   "cell_type": "code",
   "execution_count": 4,
   "metadata": {},
   "outputs": [
    {
     "data": {
      "text/plain": [
       "'Carrot'"
      ]
     },
     "execution_count": 4,
     "metadata": {},
     "output_type": "execute_result"
    }
   ],
   "source": [
    "x = {\"Rabbit\": \"Carrot\", \"Panda\": \"Banboo\", \"Jan\": 1}\n",
    "x['Rabbit']"
   ]
  },
  {
   "cell_type": "markdown",
   "metadata": {
    "collapsed": true
   },
   "source": [
    "We can add new items to the dictionary using the same indexing operator we are used to. Just on the left hand side of a statement. "
   ]
  },
  {
   "cell_type": "code",
   "execution_count": 5,
   "metadata": {
    "collapsed": true
   },
   "outputs": [],
   "source": [
    "x['Feb'] = 2"
   ]
  },
  {
   "cell_type": "code",
   "execution_count": 6,
   "metadata": {},
   "outputs": [
    {
     "data": {
      "text/plain": [
       "{'Feb': 2, 'Jan': 1, 'Panda': 'Banboo', 'Rabbit': 'Carrot'}"
      ]
     },
     "execution_count": 6,
     "metadata": {},
     "output_type": "execute_result"
    }
   ],
   "source": [
    "x"
   ]
  },
  {
   "cell_type": "markdown",
   "metadata": {},
   "source": [
    "You an iterate over all of the items in a dictionary in a number of ways. First you can iterate over all of the keys and just pull the contents out as you see fit. "
   ]
  },
  {
   "cell_type": "code",
   "execution_count": 7,
   "metadata": {},
   "outputs": [
    {
     "name": "stdout",
     "output_type": "stream",
     "text": [
      "Carrot\n",
      "Banboo\n",
      "1\n",
      "2\n"
     ]
    }
   ],
   "source": [
    "for key in x:\n",
    "    print(x[key])"
   ]
  },
  {
   "cell_type": "markdown",
   "metadata": {},
   "source": [
    "Or you can iterate over the values and just ignore the keys. "
   ]
  },
  {
   "cell_type": "code",
   "execution_count": 9,
   "metadata": {},
   "outputs": [
    {
     "name": "stdout",
     "output_type": "stream",
     "text": [
      "Carrot\n",
      "Banboo\n",
      "1\n",
      "2\n"
     ]
    }
   ],
   "source": [
    "for value in x.values():\n",
    "    print(value)"
   ]
  },
  {
   "cell_type": "markdown",
   "metadata": {},
   "source": [
    "Finally you can iterate over both the values and the keys at once using the item's function. "
   ]
  },
  {
   "cell_type": "code",
   "execution_count": 10,
   "metadata": {},
   "outputs": [
    {
     "name": "stdout",
     "output_type": "stream",
     "text": [
      "Rabbit\n",
      "Carrot\n",
      "Panda\n",
      "Banboo\n",
      "Jan\n",
      "1\n",
      "Feb\n",
      "2\n"
     ]
    }
   ],
   "source": [
    "for key, value in x.items():\n",
    "    print(key)\n",
    "    print(value)"
   ]
  },
  {
   "cell_type": "markdown",
   "metadata": {},
   "source": [
    "This last example is a little bit different, and it's an example of something called **unpacking**. In Python you can have a sequence. **That's a list or a tuple of values, and you can unpack those items into different variables through assignment in one statement.** Here's another example of that, where we have a tuple that has first name, last name, and favourite food:"
   ]
  },
  {
   "cell_type": "code",
   "execution_count": 12,
   "metadata": {
    "collapsed": true
   },
   "outputs": [],
   "source": [
    "x = ('Happy', 'Rabbit', 'Carrot')\n",
    "fname, lname, food = x"
   ]
  },
  {
   "cell_type": "code",
   "execution_count": 13,
   "metadata": {},
   "outputs": [
    {
     "data": {
      "text/plain": [
       "'Happy'"
      ]
     },
     "execution_count": 13,
     "metadata": {},
     "output_type": "execute_result"
    }
   ],
   "source": [
    "fname"
   ]
  },
  {
   "cell_type": "code",
   "execution_count": 14,
   "metadata": {},
   "outputs": [
    {
     "data": {
      "text/plain": [
       "'Rabbit'"
      ]
     },
     "execution_count": 14,
     "metadata": {},
     "output_type": "execute_result"
    }
   ],
   "source": [
    "lname"
   ]
  },
  {
   "cell_type": "code",
   "execution_count": 15,
   "metadata": {},
   "outputs": [
    {
     "data": {
      "text/plain": [
       "'Carrot'"
      ]
     },
     "execution_count": 15,
     "metadata": {},
     "output_type": "execute_result"
    }
   ],
   "source": [
    "food"
   ]
  },
  {
   "cell_type": "markdown",
   "metadata": {},
   "source": [
    "# Read and Write CSV Files"
   ]
  },
  {
   "cell_type": "code",
   "execution_count": 21,
   "metadata": {
    "collapsed": true
   },
   "outputs": [],
   "source": [
    "import csv\n",
    "# set the floating point precision for printing to 2\n",
    "%precision 2\n",
    "\n",
    "with open('data/SegData.csv') as csvfile:\n",
    "    segdat = list(csv.DictReader(csvfile))"
   ]
  },
  {
   "cell_type": "code",
   "execution_count": 23,
   "metadata": {},
   "outputs": [
    {
     "data": {
      "text/plain": [
       "[OrderedDict([('age', '57'),\n",
       "              ('gender', 'Female'),\n",
       "              ('income', '120963.400958119'),\n",
       "              ('house', 'Yes'),\n",
       "              ('store_exp', '529.134363087558'),\n",
       "              ('online_exp', '303.512474550009'),\n",
       "              ('store_trans', '2'),\n",
       "              ('online_trans', '2'),\n",
       "              ('Q1', '4'),\n",
       "              ('Q2', '2'),\n",
       "              ('Q3', '1'),\n",
       "              ('Q4', '2'),\n",
       "              ('Q5', '1'),\n",
       "              ('Q6', '4'),\n",
       "              ('Q7', '1'),\n",
       "              ('Q8', '4'),\n",
       "              ('Q9', '2'),\n",
       "              ('Q10', '4'),\n",
       "              ('segment', 'Price')]),\n",
       " OrderedDict([('age', '63'),\n",
       "              ('gender', 'Female'),\n",
       "              ('income', '122008.104949511'),\n",
       "              ('house', 'Yes'),\n",
       "              ('store_exp', '478.005780681606'),\n",
       "              ('online_exp', '109.529710262832'),\n",
       "              ('store_trans', '4'),\n",
       "              ('online_trans', '2'),\n",
       "              ('Q1', '4'),\n",
       "              ('Q2', '1'),\n",
       "              ('Q3', '1'),\n",
       "              ('Q4', '2'),\n",
       "              ('Q5', '1'),\n",
       "              ('Q6', '4'),\n",
       "              ('Q7', '1'),\n",
       "              ('Q8', '4'),\n",
       "              ('Q9', '1'),\n",
       "              ('Q10', '4'),\n",
       "              ('segment', 'Price')]),\n",
       " OrderedDict([('age', '59'),\n",
       "              ('gender', 'Male'),\n",
       "              ('income', '114202.295293891'),\n",
       "              ('house', 'Yes'),\n",
       "              ('store_exp', '490.810731245055'),\n",
       "              ('online_exp', '279.249581915219'),\n",
       "              ('store_trans', '7'),\n",
       "              ('online_trans', '2'),\n",
       "              ('Q1', '5'),\n",
       "              ('Q2', '2'),\n",
       "              ('Q3', '1'),\n",
       "              ('Q4', '2'),\n",
       "              ('Q5', '1'),\n",
       "              ('Q6', '4'),\n",
       "              ('Q7', '1'),\n",
       "              ('Q8', '4'),\n",
       "              ('Q9', '1'),\n",
       "              ('Q10', '4'),\n",
       "              ('segment', 'Price')])]"
      ]
     },
     "execution_count": 23,
     "metadata": {},
     "output_type": "execute_result"
    }
   ],
   "source": [
    "segdat[:3]"
   ]
  },
  {
   "cell_type": "code",
   "execution_count": 4,
   "metadata": {},
   "outputs": [
    {
     "data": {
      "text/plain": [
       "1000"
      ]
     },
     "execution_count": 4,
     "metadata": {},
     "output_type": "execute_result"
    }
   ],
   "source": [
    "len(segdat)"
   ]
  },
  {
   "cell_type": "code",
   "execution_count": 5,
   "metadata": {},
   "outputs": [
    {
     "data": {
      "text/plain": [
       "odict_keys(['age', 'gender', 'income', 'house', 'store_exp', 'online_exp', 'store_trans', 'online_trans', 'Q1', 'Q2', 'Q3', 'Q4', 'Q5', 'Q6', 'Q7', 'Q8', 'Q9', 'Q10', 'segment'])"
      ]
     },
     "execution_count": 5,
     "metadata": {},
     "output_type": "execute_result"
    }
   ],
   "source": [
    "segdat[0].keys()"
   ]
  },
  {
   "cell_type": "code",
   "execution_count": 6,
   "metadata": {},
   "outputs": [
    {
     "data": {
      "text/plain": [
       "1356.85"
      ]
     },
     "execution_count": 6,
     "metadata": {},
     "output_type": "execute_result"
    }
   ],
   "source": [
    "sum(float(d['store_exp']) for d in segdat)/len(segdat)"
   ]
  },
  {
   "cell_type": "code",
   "execution_count": 13,
   "metadata": {},
   "outputs": [
    {
     "data": {
      "text/plain": [
       "{'Conspicuous', 'Price', 'Quality', 'Style'}"
      ]
     },
     "execution_count": 13,
     "metadata": {},
     "output_type": "execute_result"
    }
   ],
   "source": [
    "segment = set(d['segment'] for d in segdat)\n",
    "segment"
   ]
  },
  {
   "cell_type": "code",
   "execution_count": 15,
   "metadata": {
    "collapsed": true
   },
   "outputs": [],
   "source": [
    "StoreExpBySegment = []\n",
    "for s in segment:\n",
    "    sumexp = 0\n",
    "    segmentcount = 0\n",
    "    for d in segdat:\n",
    "        if d['segment'] == s:\n",
    "            sumexp += float(d['store_exp'])\n",
    "            segmentcount += 1\n",
    "    StoreExpBySegment.append((s, sumexp/segmentcount))"
   ]
  },
  {
   "cell_type": "code",
   "execution_count": 18,
   "metadata": {
    "collapsed": true
   },
   "outputs": [],
   "source": [
    "StoreExpBySegment.sort(key=lambda x: x[0])"
   ]
  },
  {
   "cell_type": "code",
   "execution_count": 19,
   "metadata": {},
   "outputs": [
    {
     "data": {
      "text/plain": [
       "[('Conspicuous', 5214.19),\n",
       " ('Price', 499.85),\n",
       " ('Quality', 301.16),\n",
       " ('Style', 368.05)]"
      ]
     },
     "execution_count": 19,
     "metadata": {},
     "output_type": "execute_result"
    }
   ],
   "source": [
    "StoreExpBySegment"
   ]
  },
  {
   "cell_type": "markdown",
   "metadata": {},
   "source": [
    "# Python Dates and Times\n",
    "\n",
    "Date and times can be stored in many different ways. One of the most common legacy methods for storing the date and time in online transactions systems is based on the offset from the epoch, which is January 1, 1970. There's a lot of historical cruft around this, but it's not uncommon to see systems storing the date of a transaction in seconds or milliseconds since this date. So if you see large numbers where you expect to see date and time, you'll need to convert them to make much sense out of the data. \n",
    "\n",
    "In Python, you can get the current time since the epoch using the time module. "
   ]
  },
  {
   "cell_type": "code",
   "execution_count": 25,
   "metadata": {},
   "outputs": [
    {
     "data": {
      "text/plain": [
       "1511756959.48"
      ]
     },
     "execution_count": 25,
     "metadata": {},
     "output_type": "execute_result"
    }
   ],
   "source": [
    "import datetime as dt\n",
    "import time as tm\n",
    "tm.time()"
   ]
  },
  {
   "cell_type": "markdown",
   "metadata": {},
   "source": [
    "You can then create a time stamp using the from time stamp function on the date time object. When we print this value out, we see that the year, month, day, and so forth are also printed out. "
   ]
  },
  {
   "cell_type": "code",
   "execution_count": 27,
   "metadata": {},
   "outputs": [
    {
     "data": {
      "text/plain": [
       "datetime.datetime(2017, 11, 26, 22, 29, 54, 738388)"
      ]
     },
     "execution_count": 27,
     "metadata": {},
     "output_type": "execute_result"
    }
   ],
   "source": [
    "dtnow = dt.datetime.fromtimestamp(tm.time())\n",
    "dtnow"
   ]
  },
  {
   "cell_type": "code",
   "execution_count": 30,
   "metadata": {},
   "outputs": [
    {
     "data": {
      "text/plain": [
       "(2017, 11, 26, 22, 29, 54)"
      ]
     },
     "execution_count": 30,
     "metadata": {},
     "output_type": "execute_result"
    }
   ],
   "source": [
    "dtnow.year, dtnow.month, dtnow.day, dtnow.hour, dtnow.minute, dtnow.second"
   ]
  },
  {
   "cell_type": "markdown",
   "metadata": {},
   "source": [
    "Date time objects allow for simple math using time deltas. For instance, here, we can create a time delta of 100 days, then do subtraction and comparisons with the date time object. This is commonly used in data science for creating sliding windows. "
   ]
  },
  {
   "cell_type": "code",
   "execution_count": 31,
   "metadata": {},
   "outputs": [
    {
     "data": {
      "text/plain": [
       "datetime.timedelta(100)"
      ]
     },
     "execution_count": 31,
     "metadata": {},
     "output_type": "execute_result"
    }
   ],
   "source": [
    "delta = dt.timedelta(days = 100)\n",
    "delta"
   ]
  },
  {
   "cell_type": "markdown",
   "metadata": {},
   "source": [
    "For instance, you might want to look for any five day span of time where sales were highest, and flag that for follow up. "
   ]
  },
  {
   "cell_type": "code",
   "execution_count": 34,
   "metadata": {},
   "outputs": [
    {
     "data": {
      "text/plain": [
       "datetime.date(2017, 8, 18)"
      ]
     },
     "execution_count": 34,
     "metadata": {},
     "output_type": "execute_result"
    }
   ],
   "source": [
    "today = dt.date.today()\n",
    "today - delta"
   ]
  },
  {
   "cell_type": "code",
   "execution_count": 35,
   "metadata": {},
   "outputs": [
    {
     "data": {
      "text/plain": [
       "True"
      ]
     },
     "execution_count": 35,
     "metadata": {},
     "output_type": "execute_result"
    }
   ],
   "source": [
    "today > today - delta"
   ]
  }
 ],
 "metadata": {
  "kernelspec": {
   "display_name": "Python 3",
   "language": "python",
   "name": "python3"
  },
  "language_info": {
   "codemirror_mode": {
    "name": "ipython",
    "version": 3
   },
   "file_extension": ".py",
   "mimetype": "text/x-python",
   "name": "python",
   "nbconvert_exporter": "python",
   "pygments_lexer": "ipython3",
   "version": "3.6.3"
  }
 },
 "nbformat": 4,
 "nbformat_minor": 2
}
