{
 "cells": [
  {
   "cell_type": "markdown",
   "metadata": {},
   "source": [
    "# For Loops Over Indices\n",
    "\n",
    "Task: given a string, count the number of neighbouring pairs of characters that are the same\n",
    "\n",
    "`range([start,] stop[, step]) -> range object`"
   ]
  },
  {
   "cell_type": "code",
   "execution_count": 3,
   "metadata": {
    "collapsed": true
   },
   "outputs": [],
   "source": [
    "s = 'abccdafff'"
   ]
  },
  {
   "cell_type": "code",
   "execution_count": 4,
   "metadata": {},
   "outputs": [
    {
     "name": "stdout",
     "output_type": "stream",
     "text": [
      "0\n",
      "1\n",
      "2\n",
      "3\n",
      "4\n",
      "5\n",
      "6\n",
      "7\n"
     ]
    }
   ],
   "source": [
    "for i in range(len(s)-1):\n",
    "    print(i)"
   ]
  },
  {
   "cell_type": "code",
   "execution_count": 5,
   "metadata": {
    "collapsed": true
   },
   "outputs": [],
   "source": [
    "def count_adjacent_repeats(s):    \n",
    "    ''' (str) -> int\n",
    "    \n",
    "    Return the number of occurrences of a character and an adjacent character being the same.\n",
    "    \n",
    "    >>> count_adjacent_repeats('abccdafff')\n",
    "    3\n",
    "    '''\n",
    "    \n",
    "    repeats = 0\n",
    "    for i in range(len(s)-1):\n",
    "        if s[i] == s[i+1]:\n",
    "            repeats = repeats + 1\n",
    "    return(repeats)"
   ]
  },
  {
   "cell_type": "code",
   "execution_count": 6,
   "metadata": {},
   "outputs": [
    {
     "data": {
      "text/plain": [
       "3"
      ]
     },
     "execution_count": 6,
     "metadata": {},
     "output_type": "execute_result"
    }
   ],
   "source": [
    "count_adjacent_repeats('abccdafff')"
   ]
  },
  {
   "cell_type": "code",
   "execution_count": 7,
   "metadata": {
    "collapsed": true
   },
   "outputs": [],
   "source": [
    "def shift_left(L):   \n",
    "    ''' (list) -> NoneType\n",
    "    \n",
    "    Shift each item in L one position to the left and shift the first item to the last position.\n",
    "    \n",
    "    Precondition: len(L) >= 1\n",
    "    '''\n",
    "    first_item = L[0]\n",
    "    for i in range(1, len(L)):\n",
    "        L[i-1] = L[i]\n",
    "    L[-1] = first_item"
   ]
  },
  {
   "cell_type": "code",
   "execution_count": 9,
   "metadata": {},
   "outputs": [
    {
     "data": {
      "text/plain": [
       "list"
      ]
     },
     "execution_count": 9,
     "metadata": {},
     "output_type": "execute_result"
    }
   ],
   "source": [
    "L = ['a', 'b','c','d']\n",
    "shift_left(L)\n",
    "L\n",
    "type(L)"
   ]
  },
  {
   "cell_type": "markdown",
   "metadata": {},
   "source": [
    "# Parallel Lists and Strings "
   ]
  },
  {
   "cell_type": "code",
   "execution_count": 10,
   "metadata": {
    "collapsed": true
   },
   "outputs": [],
   "source": [
    "def sum_items(list1, list2):    \n",
    "    ''' (list of number, list of number) -> list of number\n",
    "    \n",
    "    Return a new list in which each item is the sum of the items at the \n",
    "    corresponding position of list1 and list2\n",
    "    \n",
    "    Precondition: len(list1) == len(list2)\n",
    "    \n",
    "    >>> sum_items([1,2,3], [2,4,3])\n",
    "    [3,6,6]\n",
    "    '''\n",
    "    \n",
    "    sum_list = []\n",
    "    for i in range(len(list1)):\n",
    "        sum_list.append(list1[i] + list2[i])\n",
    "    return sum_list"
   ]
  },
  {
   "cell_type": "code",
   "execution_count": 11,
   "metadata": {},
   "outputs": [
    {
     "data": {
      "text/plain": [
       "[3, 6, 6]"
      ]
     },
     "execution_count": 11,
     "metadata": {},
     "output_type": "execute_result"
    }
   ],
   "source": [
    "sum_items([1,2,3], [2,4,3])"
   ]
  },
  {
   "cell_type": "code",
   "execution_count": 12,
   "metadata": {
    "collapsed": true
   },
   "outputs": [],
   "source": [
    "def count_matches(s1, s2):    \n",
    "    ''' (str, str) -> int\n",
    "    \n",
    "    Return the number of positions in s1 that contain the \n",
    "    same character at the corresponding position of s2\n",
    "    \n",
    "    Precondition: len(s1) == len(s2)\n",
    "    \n",
    "    >>> count_matches('ate', 'ape')\n",
    "    2\n",
    "    >>> count_matches('head','hard')\n",
    "    2\n",
    "    '''\n",
    "    \n",
    "    num_matches = 0\n",
    "    for i in range(len(s1)):\n",
    "        if s1[i] == s2[i]:\n",
    "            num_matches = num_matches + 1\n",
    "    return(num_matches)\n",
    "        \n",
    "        \n"
   ]
  },
  {
   "cell_type": "code",
   "execution_count": 13,
   "metadata": {},
   "outputs": [
    {
     "data": {
      "text/plain": [
       "2"
      ]
     },
     "execution_count": 13,
     "metadata": {},
     "output_type": "execute_result"
    }
   ],
   "source": [
    "count_matches('ate', 'ape')"
   ]
  },
  {
   "cell_type": "markdown",
   "metadata": {},
   "source": [
    "# Nested lists and loops"
   ]
  },
  {
   "cell_type": "code",
   "execution_count": 14,
   "metadata": {},
   "outputs": [
    {
     "data": {
      "text/plain": [
       "3"
      ]
     },
     "execution_count": 14,
     "metadata": {},
     "output_type": "execute_result"
    }
   ],
   "source": [
    "grades = [['Assignment 1', 80], ['Assignment 2', 90], ['Assignment 3', 70]]\n",
    "len(grades)"
   ]
  },
  {
   "cell_type": "code",
   "execution_count": 15,
   "metadata": {},
   "outputs": [
    {
     "data": {
      "text/plain": [
       "['Assignment 1', 80]"
      ]
     },
     "execution_count": 15,
     "metadata": {},
     "output_type": "execute_result"
    }
   ],
   "source": [
    "grades[0]"
   ]
  },
  {
   "cell_type": "code",
   "execution_count": 16,
   "metadata": {},
   "outputs": [
    {
     "name": "stdout",
     "output_type": "stream",
     "text": [
      "['Assignment 1', 80]\n",
      "['Assignment 2', 90]\n",
      "['Assignment 3', 70]\n"
     ]
    }
   ],
   "source": [
    "for item in grades:\n",
    "    print(item)"
   ]
  },
  {
   "cell_type": "code",
   "execution_count": 18,
   "metadata": {},
   "outputs": [
    {
     "data": {
      "text/plain": [
       "80"
      ]
     },
     "execution_count": 18,
     "metadata": {},
     "output_type": "execute_result"
    }
   ],
   "source": [
    "grades[0][1]"
   ]
  },
  {
   "cell_type": "code",
   "execution_count": 19,
   "metadata": {
    "collapsed": true
   },
   "outputs": [],
   "source": [
    "def calculate_average(asn_grades):    \n",
    "    ''' (list of list of [str, number]) -> float\n",
    "    \n",
    "    Return the average of the grades in asn_grades\n",
    "    \n",
    "    >>> calculate_average([['A1', 80], ['A2', 90]])\n",
    "    85.0\n",
    "    '''\n",
    "    total = 0\n",
    "    \n",
    "    for item in asn_grades:\n",
    "        total = total + item[1]\n",
    "    return total/len(asn_grades)"
   ]
  },
  {
   "cell_type": "code",
   "execution_count": 20,
   "metadata": {},
   "outputs": [
    {
     "data": {
      "text/plain": [
       "85.0"
      ]
     },
     "execution_count": 20,
     "metadata": {},
     "output_type": "execute_result"
    }
   ],
   "source": [
    "calculate_average([['A1', 80], ['A2', 90]])"
   ]
  },
  {
   "cell_type": "markdown",
   "metadata": {},
   "source": [
    "- nested loops"
   ]
  },
  {
   "cell_type": "code",
   "execution_count": 22,
   "metadata": {},
   "outputs": [
    {
     "name": "stdout",
     "output_type": "stream",
     "text": [
      "10 1\n",
      "10 2\n",
      "11 1\n",
      "11 2\n"
     ]
    }
   ],
   "source": [
    "for i in range(10,12):\n",
    "    for j in range(1, 3):\n",
    "        print(i, j)"
   ]
  },
  {
   "cell_type": "markdown",
   "metadata": {},
   "source": [
    "- Problem: Return a list of the averages of the values in each of the inner lists of grades"
   ]
  },
  {
   "cell_type": "code",
   "execution_count": 25,
   "metadata": {
    "collapsed": true
   },
   "outputs": [],
   "source": [
    "grades = [[70, 75, 80], [70, 80, 90, 100], [80, 100]]"
   ]
  },
  {
   "cell_type": "code",
   "execution_count": 33,
   "metadata": {
    "collapsed": true
   },
   "outputs": [],
   "source": [
    "def averages(grades):    \n",
    "    ''' (list of list of numbers) -> list of float\n",
    "    \n",
    "    Return a new list in which each item is the average of the grades in the inner list\n",
    "    at the corresponding posiiton of grades.\n",
    "    \n",
    "    >>> averages([[70, 75, 80], [70, 80, 90, 100], [80, 100]])\n",
    "    [75.0, 85.0, 90.0]\n",
    "    '''\n",
    "    list_avg = []\n",
    "    for i in range(len(grades)):\n",
    "        list_sum = 0\n",
    "        for j in range(len(grades[i])):\n",
    "            list_sum = list_sum + grades[i][j]\n",
    "        list_avg.append(list_sum/len(grades[i]))\n",
    "    return list_avg"
   ]
  },
  {
   "cell_type": "code",
   "execution_count": 34,
   "metadata": {},
   "outputs": [
    {
     "data": {
      "text/plain": [
       "[75.0, 85.0, 90.0]"
      ]
     },
     "execution_count": 34,
     "metadata": {},
     "output_type": "execute_result"
    }
   ],
   "source": [
    "averages(grades)"
   ]
  },
  {
   "cell_type": "markdown",
   "metadata": {},
   "source": [
    "# Files\n",
    "\n",
    "- To open a file: `open(filename, mode)`\n",
    "- mode: \n",
    "    - `r` to open for reading\n",
    "    - `w` to open for writing\n",
    "    - `a` to open for appending"
   ]
  },
  {
   "cell_type": "code",
   "execution_count": 35,
   "metadata": {
    "collapsed": true
   },
   "outputs": [],
   "source": [
    "flanders_filename = 'data/In-Flanders-Fields.txt'"
   ]
  },
  {
   "cell_type": "code",
   "execution_count": 36,
   "metadata": {
    "collapsed": true
   },
   "outputs": [],
   "source": [
    "flanders_file = open(flanders_filename, 'r')"
   ]
  },
  {
   "cell_type": "code",
   "execution_count": 45,
   "metadata": {},
   "outputs": [
    {
     "data": {
      "text/plain": [
       "'We are the Dead. Short days ago\\n'"
      ]
     },
     "execution_count": 45,
     "metadata": {},
     "output_type": "execute_result"
    }
   ],
   "source": [
    "# method readline()\n",
    "# Read and return the next line from the file\n",
    "# including the newline character (if it exists)\n",
    "# Return the empty string if there are no more lines in the file\n",
    "flanders_file.readline()"
   ]
  },
  {
   "cell_type": "code",
   "execution_count": 47,
   "metadata": {},
   "outputs": [
    {
     "name": "stdout",
     "output_type": "stream",
     "text": [
      "In Flanders Fields\n",
      "\n",
      "\n",
      "\n",
      "In Flanders fields the poppies blow\n",
      "\n",
      "Between the crosses, row on row,\n",
      "\n",
      "That mark our place; and in the sky\n",
      "\n",
      "The larks, still bravely singing, fly\n",
      "\n",
      "Scarce heard amid the guns below.\n",
      "\n",
      "\n",
      "\n",
      "We are the Dead. Short days ago\n",
      "\n",
      "We lived, felt dawn, saw sunset glow,\n",
      "\n",
      "Loved and were loved, and now we lie\n",
      "\n",
      "In Flanders fields.\n",
      "\n",
      "\n",
      "\n",
      "Take up our quarrel with the foe:\n",
      "\n",
      "To you from failing hands we throw\n",
      "\n",
      "The torch; be yours to hold it high.\n",
      "\n",
      "If ye break faith with us who die\n",
      "\n",
      "We shall not sleep, though poppies grow\n",
      "\n",
      "In Flanders fields.\n",
      "\n",
      "\n",
      "\n",
      "-John McCrae\n",
      "\n"
     ]
    }
   ],
   "source": [
    "# close it\n",
    "flanders_file.close()\n",
    "# read it again\n",
    "flanders_file = open(flanders_filename, 'r')\n",
    "line = flanders_file.readline()\n",
    "# you will see blank line between\n",
    "while line !='':\n",
    "    print(line)\n",
    "    line = flanders_file.readline()"
   ]
  },
  {
   "cell_type": "code",
   "execution_count": 49,
   "metadata": {},
   "outputs": [
    {
     "name": "stdout",
     "output_type": "stream",
     "text": [
      "In Flanders Fields\n",
      "\n",
      "In Flanders fields the poppies blow\n",
      "Between the crosses, row on row,\n",
      "That mark our place; and in the sky\n",
      "The larks, still bravely singing, fly\n",
      "Scarce heard amid the guns below.\n",
      "\n",
      "We are the Dead. Short days ago\n",
      "We lived, felt dawn, saw sunset glow,\n",
      "Loved and were loved, and now we lie\n",
      "In Flanders fields.\n",
      "\n",
      "Take up our quarrel with the foe:\n",
      "To you from failing hands we throw\n",
      "The torch; be yours to hold it high.\n",
      "If ye break faith with us who die\n",
      "We shall not sleep, though poppies grow\n",
      "In Flanders fields.\n",
      "\n",
      "-John McCrae\n"
     ]
    }
   ],
   "source": [
    "# print has an optional parameter that specifies the string to print as the end marker\n",
    "flanders_file = open(flanders_filename, 'r')\n",
    "line = flanders_file.readline()\n",
    "while line !='':\n",
    "    print(line, end='')\n",
    "    line = flanders_file.readline()"
   ]
  },
  {
   "cell_type": "code",
   "execution_count": 51,
   "metadata": {},
   "outputs": [
    {
     "name": "stdout",
     "output_type": "stream",
     "text": [
      "In Flanders Fields\n",
      "\n"
     ]
    }
   ],
   "source": [
    "# close it\n",
    "flanders_file.close()\n",
    "# read it again\n",
    "flanders_file = open(flanders_filename, 'r')\n",
    "line = flanders_file.readline()\n",
    "while line != '\\n':\n",
    "    print(line)\n",
    "    line = flanders_file.readline()"
   ]
  },
  {
   "cell_type": "code",
   "execution_count": 52,
   "metadata": {
    "collapsed": true
   },
   "outputs": [],
   "source": [
    "flanders_file.close()"
   ]
  },
  {
   "cell_type": "markdown",
   "metadata": {},
   "source": [
    "**The `readline` approach**\n",
    "\n",
    "1. use `readline` to skip the beginning of the file\n",
    "2. read the first line of the file you are interested in\n",
    "3. while not at the end of the interesting section\n",
    "    process the current line  \n",
    "    read the next line of the interesting section\n",
    "\n",
    "**When to use this approach**  \n",
    "When you want to process only some parts of a file\n",
    "\n",
    "**The `for` line in file approach**\n",
    "\n",
    "<pre>\n",
    "for line in file:\n",
    "    process line\n",
    "</pre>\n",
    "\n",
    "**When to use this approach**\n",
    "\n",
    "When you want to process every line in a file"
   ]
  },
  {
   "cell_type": "code",
   "execution_count": 53,
   "metadata": {},
   "outputs": [
    {
     "name": "stdout",
     "output_type": "stream",
     "text": [
      "In Flanders Fields\n",
      "\n",
      "In Flanders fields the poppies blow\n",
      "Between the crosses, row on row,\n",
      "That mark our place; and in the sky\n",
      "The larks, still bravely singing, fly\n",
      "Scarce heard amid the guns below.\n",
      "\n",
      "We are the Dead. Short days ago\n",
      "We lived, felt dawn, saw sunset glow,\n",
      "Loved and were loved, and now we lie\n",
      "In Flanders fields.\n",
      "\n",
      "Take up our quarrel with the foe:\n",
      "To you from failing hands we throw\n",
      "The torch; be yours to hold it high.\n",
      "If ye break faith with us who die\n",
      "We shall not sleep, though poppies grow\n",
      "In Flanders fields.\n",
      "\n",
      "-John McCrae\n"
     ]
    }
   ],
   "source": [
    "flanders_file = open(flanders_filename, 'r')\n",
    "for line in flanders_file:\n",
    "    print(line, end = '')"
   ]
  },
  {
   "cell_type": "markdown",
   "metadata": {},
   "source": [
    "**The `read` approach**\n",
    "\n",
    "`file.read()`\n",
    "\n",
    "**When to use this approach**\n",
    "\n",
    "When you want to read the whole file at once"
   ]
  },
  {
   "cell_type": "code",
   "execution_count": 55,
   "metadata": {},
   "outputs": [
    {
     "name": "stdout",
     "output_type": "stream",
     "text": [
      "In Flanders Fields\n",
      "\n",
      "In Flanders fields the poppies blow\n",
      "Between the crosses, row on row,\n",
      "That mark our place; and in the sky\n",
      "The larks, still bravely singing, fly\n",
      "Scarce heard amid the guns below.\n",
      "\n",
      "We are the Dead. Short days ago\n",
      "We lived, felt dawn, saw sunset glow,\n",
      "Loved and were loved, and now we lie\n",
      "In Flanders fields.\n",
      "\n",
      "Take up our quarrel with the foe:\n",
      "To you from failing hands we throw\n",
      "The torch; be yours to hold it high.\n",
      "If ye break faith with us who die\n",
      "We shall not sleep, though poppies grow\n",
      "In Flanders fields.\n",
      "\n",
      "-John McCrae\n",
      "\n"
     ]
    }
   ],
   "source": [
    "flanders_file = open(flanders_filename, 'r')\n",
    "print(flanders_file.read())"
   ]
  },
  {
   "cell_type": "markdown",
   "metadata": {},
   "source": [
    "**The `readlines` approach**\n",
    "\n",
    "`list = file.readlines()`\n",
    "\n",
    "**When to use this apprach**\n",
    "\n",
    "When you want to be able to examine each line by index"
   ]
  },
  {
   "cell_type": "code",
   "execution_count": 57,
   "metadata": {},
   "outputs": [
    {
     "name": "stdout",
     "output_type": "stream",
     "text": [
      "In Flanders Fields\n",
      "\n",
      "In Flanders fields the poppies blow\n",
      "Between the crosses, row on row,\n",
      "That mark our place; and in the sky\n",
      "The larks, still bravely singing, fly\n",
      "Scarce heard amid the guns below.\n",
      "\n",
      "We are the Dead. Short days ago\n",
      "We lived, felt dawn, saw sunset glow,\n",
      "Loved and were loved, and now we lie\n",
      "In Flanders fields.\n",
      "\n",
      "Take up our quarrel with the foe:\n",
      "To you from failing hands we throw\n",
      "The torch; be yours to hold it high.\n",
      "If ye break faith with us who die\n",
      "We shall not sleep, though poppies grow\n",
      "In Flanders fields.\n",
      "\n",
      "-John McCrae\n"
     ]
    }
   ],
   "source": [
    "flanders_file = open(flanders_filename, 'r')\n",
    "lines = flanders_file.readlines()\n",
    "for line in lines:\n",
    "    print(line, end = '')"
   ]
  },
  {
   "cell_type": "markdown",
   "metadata": {},
   "source": [
    "# Write files\n",
    "\n",
    "**Writing to a file within a python program**\n",
    "\n",
    "In order to write to a file, we use `file.write(str)`. This method writes a string to a file. Method `write` works like Python's `print` function, except that it does not add a newline character.\n",
    "\n",
    "**File dialogs**\n",
    "\n",
    "Module `tkinter` has s submodule called `filedialog`. We import it like this:\n",
    "\n",
    "`import tkinter.filedialog`\n",
    "\n",
    "Function `askopenfilename` asks the user to select a file to open:\n",
    "\n",
    "`tkinter.filedialog.askopenfilename()`\n",
    "\n",
    "\n",
    "This function returns the full path to the file, so we can use that when we call function open to open that file.\n",
    "\n",
    "`from_filename = tkinter.filedialog.askopenfilename()`\n",
    "\n",
    "Function asksaveasfilename asks the user to select a file to save to, and provides a warning if the file already exists.\n",
    "\n",
    "`to_filename = tkinter.filedialog.asksaveasfilename()`\n",
    "\n",
    "## Example\n",
    "\n",
    "Below is a program that copies a file, but puts \"Copy\" as the first line of the copied file.\n",
    "\n",
    "In order to prompt a user for a file.\n",
    "\n",
    "Now we can open the file we want to read from and get the contents:\n",
    "\n",
    "<pre>\n",
    "from_file = open(from_filename, 'r')\n",
    "contents = from_file.read()\n",
    "from_file.close()\n",
    "</pre>\n",
    "\n",
    "And we can open the file we want to write to and write the contents:\n",
    "\n",
    "<pre>\n",
    "to_file = open(to_filename, 'w')\n",
    "to_file.write('Copy\\n')  # We have to add the newline ourselves.\n",
    "to_file.write(contents)  # Now write the contents of the file.\n",
    "to_file.close()\n",
    "</pre>"
   ]
  },
  {
   "cell_type": "code",
   "execution_count": 1,
   "metadata": {
    "collapsed": true
   },
   "outputs": [],
   "source": [
    "from tkinter.filedialog import askopenfile"
   ]
  },
  {
   "cell_type": "code",
   "execution_count": 21,
   "metadata": {},
   "outputs": [],
   "source": [
    "filename = '/Users/happyrabbit/Documents/GitHub/LearnToProgramPython/data/wordlist1.txt'\n",
    "word_file = open(filename, 'r')\n",
    "lines = word_file.readlines()\n",
    "word = []\n",
    "for line in lines:\n",
    "    word.append(line.strip())\n"
   ]
  },
  {
   "cell_type": "code",
   "execution_count": 22,
   "metadata": {},
   "outputs": [
    {
     "data": {
      "text/plain": [
       "['CRUNCHY', 'COWS', 'EAT', 'GRASS']"
      ]
     },
     "execution_count": 22,
     "metadata": {},
     "output_type": "execute_result"
    }
   ],
   "source": [
    "word"
   ]
  },
  {
   "cell_type": "code",
   "execution_count": null,
   "metadata": {
    "collapsed": true
   },
   "outputs": [],
   "source": [
    "def read_words(words_file):\n",
    "    \"\"\" (file open for reading) -> list of str\n",
    "\n",
    "    Return a list of all words (with newlines removed) from open file\n",
    "    words_file.\n",
    "\n",
    "    Precondition: Each line of the file contains a word in uppercase characters\n",
    "    from the standard English alphabet.\n",
    "    \"\"\"\n",
    "    lines = words_file.readlines()\n",
    "    words = []\n",
    "    for line in lines:\n",
    "        words.append(line.strip())\n",
    "    return(words)"
   ]
  },
  {
   "cell_type": "code",
   "execution_count": null,
   "metadata": {
    "collapsed": true
   },
   "outputs": [],
   "source": [
    "def read_board(board_file):\n",
    "    \"\"\" (file open for reading) -> list of list of str\n",
    "\n",
    "    Return a board read from open file board_file. The board file will contain\n",
    "    one row of the board per line. Newlines are not included in the board.\n",
    "    \"\"\"\n",
    "    lines = board_file.readlines()\n",
    "    board = []\n",
    "    for line in lines:\n",
    "        char_list = []\n",
    "        for char in line:\n",
    "            if char != '\\n':\n",
    "                char_list.append(char)\n",
    "        board.append(char_list)\n",
    "    return(board)\n"
   ]
  }
 ],
 "metadata": {
  "kernelspec": {
   "display_name": "Python 3",
   "language": "python",
   "name": "python3"
  },
  "language_info": {
   "codemirror_mode": {
    "name": "ipython",
    "version": 3
   },
   "file_extension": ".py",
   "mimetype": "text/x-python",
   "name": "python",
   "nbconvert_exporter": "python",
   "pygments_lexer": "ipython3",
   "version": "3.6.3"
  }
 },
 "nbformat": 4,
 "nbformat_minor": 2
}
