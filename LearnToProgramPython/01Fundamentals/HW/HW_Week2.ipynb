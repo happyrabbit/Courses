{
 "cells": [
  {
   "cell_type": "markdown",
   "metadata": {},
   "source": [
    "# Complete the body of function `𝚜𝚎𝚌𝚘𝚗𝚍𝚜_𝚍𝚒𝚏𝚏𝚎𝚛𝚎𝚗𝚌𝚎`"
   ]
  },
  {
   "cell_type": "code",
   "execution_count": 10,
   "metadata": {},
   "outputs": [],
   "source": [
    "def seconds_difference(time_1, time_2):\n",
    "    \"\"\" (number, number) -> number\n",
    "\n",
    "    Return the number of seconds later that a time in seconds\n",
    "    time_2 is than a time in seconds time_1.\n",
    "        \n",
    "    >>> seconds_difference(1800.0, 3600.0)\n",
    "    1800.0\n",
    "    >>> seconds_difference(3600.0, 1800.0)\n",
    "    -1800.0\n",
    "    >>> seconds_difference(1800.0, 2160.0)\n",
    "    360.0\n",
    "    >>> seconds_difference(1800.0, 1800.0)\n",
    "    0.0\n",
    "    \"\"\"\n",
    "    return time_2-time_1"
   ]
  },
  {
   "cell_type": "markdown",
   "metadata": {},
   "source": [
    "# Complete the body of function `𝚑𝚘𝚞𝚛𝚜_𝚍𝚒𝚏𝚏𝚎𝚛𝚎𝚗𝚌𝚎`"
   ]
  },
  {
   "cell_type": "code",
   "execution_count": 11,
   "metadata": {},
   "outputs": [],
   "source": [
    "def hours_difference(time_1, time_2):\n",
    "    \"\"\" (number, number) -> float\n",
    "\n",
    "    Return the number of hours later that a time in seconds\n",
    "    time_2 is than a time in seconds time_1.\n",
    "        \n",
    "    >>> hours_difference(1800.0, 3600.0)\n",
    "    0.5\n",
    "    >>> hours_difference(3600.0, 1800.0)\n",
    "    -0.5\n",
    "    >>> hours_difference(1800.0, 2160.0)\n",
    "    0.1\n",
    "    >>> hours_difference(1800.0, 1800.0)\n",
    "    0.0\n",
    "    \"\"\"\n",
    "    return (time_2 - time_1)/3600"
   ]
  },
  {
   "cell_type": "markdown",
   "metadata": {},
   "source": [
    "# Complete the body of function `𝚝𝚘_𝚏𝚕𝚘𝚊𝚝_𝚑𝚘𝚞𝚛𝚜`"
   ]
  },
  {
   "cell_type": "code",
   "execution_count": 12,
   "metadata": {},
   "outputs": [],
   "source": [
    "def to_float_hours(hours, minutes, seconds):\n",
    "    \"\"\" (int, int, int) -> float\n",
    "\n",
    "    Return the total number of hours in the specified number\n",
    "    of hours, minutes, and seconds.\n",
    "\n",
    "    Precondition: 0 <= minutes < 60  and  0 <= seconds < 60\n",
    "\n",
    "    >>> to_float_hours(0, 15, 0)\n",
    "    0.25\n",
    "    >>> to_float_hours(2, 45, 9)\n",
    "    2.7525\n",
    "    >>> to_float_hours(1, 0, 36)\n",
    "    1.01\n",
    "    \"\"\"\n",
    "    return hours + minutes/60 + seconds/3600"
   ]
  },
  {
   "cell_type": "markdown",
   "metadata": {},
   "source": [
    "# Write functions `𝚐𝚎𝚝_𝚑𝚘𝚞𝚛𝚜`, `𝚐𝚎𝚝_𝚖𝚒𝚗𝚞𝚝𝚎𝚜` and `𝚐𝚎𝚝_𝚜𝚎𝚌𝚘𝚗𝚍𝚜`"
   ]
  },
  {
   "cell_type": "code",
   "execution_count": 13,
   "metadata": {},
   "outputs": [],
   "source": [
    "def to_24_hour_clock(hours):\n",
    "    \"\"\" (number) -> number\n",
    "\n",
    "    hours is a number of hours since midnight. Return the\n",
    "    hour as seen on a 24-hour clock.\n",
    "\n",
    "    Precondition: hours >= 0\n",
    "\n",
    "    >>> to_24_hour_clock(24)\n",
    "    0\n",
    "    >>> to_24_hour_clock(48)\n",
    "    0\n",
    "    >>> to_24_hour_clock(25)\n",
    "    1\n",
    "    >>> to_24_hour_clock(4)\n",
    "    4\n",
    "    >>> to_24_hour_clock(28.5)\n",
    "    4.5\n",
    "    \"\"\"\n",
    "\n",
    "    return hours % 24"
   ]
  },
  {
   "cell_type": "code",
   "execution_count": 6,
   "metadata": {},
   "outputs": [],
   "source": [
    "### Write your get_hours function definition here:\n",
    "\n",
    "def get_hours(time_1): \n",
    "    \"\"\" (int) -> int\n",
    "    \n",
    "    Return the number of hours that have elapsed since a time_1 in seconds\n",
    "    since midnight.\n",
    "    >>> get_hours(360000)\n",
    "    4\n",
    "    >>> get_hours(3650)\n",
    "    1\n",
    "    >>> get_hours(7250)\n",
    "    2\n",
    "    >>> get_hours(300)\n",
    "    0\n",
    "    \"\"\"\n",
    "    \n",
    "    return to_24_hour_clock(time_1 // 3600)\n",
    "    "
   ]
  },
  {
   "cell_type": "code",
   "execution_count": 14,
   "metadata": {},
   "outputs": [],
   "source": [
    "### Write your get_minutes function definition here:\n",
    "\n",
    "def get_minutes(time_1): \n",
    "    \"\"\" (int) -> int\n",
    "    \n",
    "    Return the number of minutes that have elapsed since a time_1 since midnight.\n",
    "    >>> get_minutes(3600)\n",
    "    0\n",
    "    >>> get_minutes(3670)\n",
    "    1\n",
    "    >>> get_minutes(7224)\n",
    "    0\n",
    "    >>> get_minutes(300)\n",
    "    5\n",
    "    \"\"\"\n",
    "    hs = get_hours(time_1)*3600\n",
    "    return (time_1 - hs) // 60\n",
    "\n",
    "\n",
    "### Write your get_seconds function definition here:\n",
    "\n",
    "def get_seconds(time_1): \n",
    "    \"\"\" (int) -> int\n",
    "    \n",
    "    Return the number of seconds that have elapsed since a time_1 since midnight.\n",
    "    >>> get_seconds(3600)\n",
    "    0\n",
    "    >>> get_seconds(3670)\n",
    "    10\n",
    "    >>> get_seconds(7224)\n",
    "    24\n",
    "    >>> get_seconds(300)\n",
    "    0\n",
    "    \"\"\"\n",
    "    return time_1 % 60"
   ]
  },
  {
   "cell_type": "markdown",
   "metadata": {},
   "source": [
    "# Complete functions `𝚝𝚒𝚖𝚎_𝚝𝚘_𝚞𝚝𝚌` and  `𝚝𝚒𝚖𝚎_𝚏𝚛𝚘𝚖_𝚞𝚝𝚌`\n",
    "\n",
    "The header and docstrings are in the starter code. Use those examples to determine the appropriate formula. **We have intentionally left out tests involving time zones that are not on the hour: you need to figure out your own test cases for these.**"
   ]
  },
  {
   "cell_type": "code",
   "execution_count": 16,
   "metadata": {},
   "outputs": [],
   "source": [
    "def time_to_utc(utc_offset, time):\n",
    "    \"\"\" (number, float) -> float\n",
    "\n",
    "    Return time at UTC+0, where utc_offset is the number of hours away from\n",
    "    UTC+0.\n",
    "\n",
    "    >>> time_to_utc(+0, 12.0)\n",
    "    12.0\n",
    "    >>> time_to_utc(+1, 12.0)\n",
    "    11.0\n",
    "    >>> time_to_utc(-1, 12.0)\n",
    "    13.0\n",
    "    >>> time_to_utc(-11, 18.0)\n",
    "    5.0\n",
    "    >>> time_to_utc(-1, 0.0)\n",
    "    1.0\n",
    "    >>> time_to_utc(-1, 23.0)\n",
    "    0.0\n",
    "    \"\"\"\n",
    "    h_to_midnight = time - utc_offset\n",
    "    return h_to_midnight % 24\n",
    "\n",
    "\n",
    "\n",
    "def time_from_utc(utc_offset, time):\n",
    "    \"\"\" (number, float) -> float\n",
    "\n",
    "    Return UTC time in time zone utc_offset.\n",
    "\n",
    "    >>> time_from_utc(+0, 12.0)\n",
    "    12.0\n",
    "    >>> time_from_utc(+1, 12.0)\n",
    "    13.0\n",
    "    >>> time_from_utc(-1, 12.0)\n",
    "    11.0\n",
    "    >>> time_from_utc(+6, 6.0)\n",
    "    12.0\n",
    "    >>> time_from_utc(-7, 6.0)\n",
    "    23.0\n",
    "    >>> time_from_utc(-1, 0.0)\n",
    "    23.0\n",
    "    >>> time_from_utc(-1, 23.0)\n",
    "    22.0\n",
    "    >>> time_from_utc(+1, 23.0)\n",
    "    0.0\n",
    "    \"\"\"\n",
    "    h_to_midnight = time + utc_offset\n",
    "    return h_to_midnight % 24"
   ]
  }
 ],
 "metadata": {
  "kernelspec": {
   "display_name": "Python 3",
   "language": "python",
   "name": "python3"
  },
  "language_info": {
   "codemirror_mode": {
    "name": "ipython",
    "version": 3
   },
   "file_extension": ".py",
   "mimetype": "text/x-python",
   "name": "python",
   "nbconvert_exporter": "python",
   "pygments_lexer": "ipython3",
   "version": "3.6.3"
  }
 },
 "nbformat": 4,
 "nbformat_minor": 2
}
