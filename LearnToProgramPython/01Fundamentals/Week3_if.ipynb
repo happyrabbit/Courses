{
 "cells": [
  {
   "cell_type": "markdown",
   "metadata": {},
   "source": [
    "# The if statement\n",
    "\n",
    "If statements can be used to control which instructions are executed. Here is the general form:\n",
    "\n",
    "if expression1:    \n",
    "    body1\n",
    "[elif expression2:      0 or more clauses\n",
    "    body2]\n",
    "[else:                  0 or 1 clause\n",
    "    bodyN]\n",
    "elif stands for \"else if\", so this forms a chain of conditions.\n",
    "\n",
    "To execute an if statement, evaluate each expression in order from top to bottom. If an expression produces True, execute the body of that clause and then skip the rest open the if statement. If there is an else, and none of the expressions produce True, then execute the body of the else.\n",
    "\n",
    "For example, given this function:"
   ]
  },
  {
   "cell_type": "code",
   "execution_count": 2,
   "metadata": {},
   "outputs": [],
   "source": [
    "def report_status(scheduled_time, estimated_time):\n",
    "    \"\"\" (float, float) -> str \"\"\"\n",
    "    if scheduled_time == estimated_time:\n",
    "        return 'on time'\n",
    "    elif scheduled_time > estimated_time:  \n",
    "        return 'early'\n",
    "    else:\n",
    "        return 'delayed'"
   ]
  },
  {
   "cell_type": "markdown",
   "metadata": {},
   "source": [
    "In the shell:"
   ]
  },
  {
   "cell_type": "code",
   "execution_count": 3,
   "metadata": {},
   "outputs": [
    {
     "data": {
      "text/plain": [
       "'on time'"
      ]
     },
     "execution_count": 3,
     "metadata": {},
     "output_type": "execute_result"
    }
   ],
   "source": [
    "report_status(14.3, 14.3)"
   ]
  },
  {
   "cell_type": "code",
   "execution_count": 4,
   "metadata": {},
   "outputs": [
    {
     "data": {
      "text/plain": [
       "'early'"
      ]
     },
     "execution_count": 4,
     "metadata": {},
     "output_type": "execute_result"
    }
   ],
   "source": [
    "report_status(12.5, 11.5)"
   ]
  },
  {
   "cell_type": "code",
   "execution_count": 5,
   "metadata": {},
   "outputs": [
    {
     "data": {
      "text/plain": [
       "'delayed'"
      ]
     },
     "execution_count": 5,
     "metadata": {},
     "output_type": "execute_result"
    }
   ],
   "source": [
    "report_status(9.0, 9.5)"
   ]
  },
  {
   "cell_type": "markdown",
   "metadata": {},
   "source": [
    "## A note on `None`\n",
    "\n",
    "When execution of a function body ends without having executed a return statement, the function returns value None. The type of None is NoneType.\n",
    "\n",
    "For example, consider this function:\n"
   ]
  },
  {
   "cell_type": "code",
   "execution_count": 13,
   "metadata": {},
   "outputs": [],
   "source": [
    "def report_status(scheduled_time, estimated_time):\n",
    "    \"\"\" (float, float) -> str\n",
    "\n",
    "    Return the flight status (on time, early, delayed) for a flight that was\n",
    "    scheduled to arrive at scheduled_time, but is now estimated to arrive\n",
    "    at estimated_time.\n",
    "\n",
    "    Pre-condition: 0.0 <= scheduled_time < 24.0 and 0.0 <= estimated_time < 24.0\n",
    "\n",
    "    >>> report_status(14.3, 14.3)\n",
    "    'on_time'\n",
    "    >>> report_status(12.5, 11.5)\n",
    "    'early'\n",
    "    >>> report_status(9.0, 9.5)\n",
    "    'delayed'\n",
    "    \"\"\"\n",
    "\n",
    "    if scheduled_time == estimated_time:\n",
    "        return 'on time'"
   ]
  },
  {
   "cell_type": "markdown",
   "metadata": {},
   "source": [
    "In the shell:"
   ]
  },
  {
   "cell_type": "code",
   "execution_count": 14,
   "metadata": {},
   "outputs": [
    {
     "data": {
      "text/plain": [
       "'on time'"
      ]
     },
     "execution_count": 14,
     "metadata": {},
     "output_type": "execute_result"
    }
   ],
   "source": [
    "report_status(14.3, 14.3)"
   ]
  },
  {
   "cell_type": "code",
   "execution_count": 15,
   "metadata": {},
   "outputs": [],
   "source": [
    "report_status(12.5, 11.5)"
   ]
  },
  {
   "cell_type": "code",
   "execution_count": 16,
   "metadata": {},
   "outputs": [
    {
     "name": "stdout",
     "output_type": "stream",
     "text": [
      "None\n"
     ]
    }
   ],
   "source": [
    "print(report_status(12.5, 11.5))"
   ]
  },
  {
   "cell_type": "markdown",
   "metadata": {},
   "source": [
    "Because the type of `None` is `NoneType`, not `str`, this breaks the Type Contract. To fix this, we would need to complete the rest of the function."
   ]
  }
 ],
 "metadata": {
  "kernelspec": {
   "display_name": "Python 3",
   "language": "python",
   "name": "python3"
  },
  "language_info": {
   "codemirror_mode": {
    "name": "ipython",
    "version": 3
   },
   "file_extension": ".py",
   "mimetype": "text/x-python",
   "name": "python",
   "nbconvert_exporter": "python",
   "pygments_lexer": "ipython3",
   "version": "3.6.3"
  }
 },
 "nbformat": 4,
 "nbformat_minor": 2
}
