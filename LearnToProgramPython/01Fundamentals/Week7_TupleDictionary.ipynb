{
 "cells": [
  {
   "cell_type": "markdown",
   "metadata": {},
   "source": [
    "# Tuples\n",
    "\n",
    "- General form of a tuple: `(expr1, expr2, ..., expr_n)`\n",
    "- can't change tuple. It is immutable.\n",
    "- `dir(tuble)`"
   ]
  },
  {
   "cell_type": "code",
   "execution_count": 6,
   "metadata": {
    "collapsed": true
   },
   "outputs": [],
   "source": [
    "tup = ('a', 3, -0.2)"
   ]
  },
  {
   "cell_type": "code",
   "execution_count": 7,
   "metadata": {},
   "outputs": [
    {
     "data": {
      "text/plain": [
       "'a'"
      ]
     },
     "execution_count": 7,
     "metadata": {},
     "output_type": "execute_result"
    }
   ],
   "source": [
    "tup[0]"
   ]
  },
  {
   "cell_type": "code",
   "execution_count": 8,
   "metadata": {},
   "outputs": [
    {
     "data": {
      "text/plain": [
       "('a', 3)"
      ]
     },
     "execution_count": 8,
     "metadata": {},
     "output_type": "execute_result"
    }
   ],
   "source": [
    "tup[:2]"
   ]
  },
  {
   "cell_type": "markdown",
   "metadata": {},
   "source": [
    "**for loop over a tuple**\n",
    "\n",
    "<pre>\n",
    "for variable in tuple:\n",
    "    body\n",
    "</pre>\n",
    "\n",
    "`len(list)`: return the number of items in `list`"
   ]
  },
  {
   "cell_type": "code",
   "execution_count": 11,
   "metadata": {},
   "outputs": [
    {
     "name": "stdout",
     "output_type": "stream",
     "text": [
      "a\n",
      "3\n",
      "-0.2\n"
     ]
    }
   ],
   "source": [
    "for i in range(len(tup)):\n",
    "    print(tup[i])"
   ]
  },
  {
   "cell_type": "markdown",
   "metadata": {},
   "source": [
    "# Type dict\n",
    "\n",
    "`dict`: Python's dictionary type\n",
    "\n",
    "**General form of a dictionary:**\n",
    "\n",
    "`{key1: value1, key2: value2, ..., keyN: valueN}`\n",
    "\n",
    "Keys must be unique. Values may be duplicated."
   ]
  },
  {
   "cell_type": "code",
   "execution_count": 45,
   "metadata": {},
   "outputs": [
    {
     "data": {
      "text/plain": [
       "90"
      ]
     },
     "execution_count": 45,
     "metadata": {},
     "output_type": "execute_result"
    }
   ],
   "source": [
    "asn_to_grade = {'A1': 80, 'A3': 70, 'A2': 90}\n",
    "asn_to_grade['A2']"
   ]
  },
  {
   "cell_type": "markdown",
   "metadata": {},
   "source": [
    "| **Operator**| **Symbol**|\n",
    "|-------------|-----------|\n",
    "|`in`|contains|"
   ]
  },
  {
   "cell_type": "code",
   "execution_count": 27,
   "metadata": {},
   "outputs": [
    {
     "data": {
      "text/plain": [
       "False"
      ]
     },
     "execution_count": 27,
     "metadata": {},
     "output_type": "execute_result"
    }
   ],
   "source": [
    "'A4' in asn_to_grade"
   ]
  },
  {
   "cell_type": "markdown",
   "metadata": {},
   "source": [
    "`len(dict)`: return the number of key-value pairs in `dict`"
   ]
  },
  {
   "cell_type": "code",
   "execution_count": 28,
   "metadata": {},
   "outputs": [
    {
     "data": {
      "text/plain": [
       "3"
      ]
     },
     "execution_count": 28,
     "metadata": {},
     "output_type": "execute_result"
    }
   ],
   "source": [
    "len(asn_to_grade)"
   ]
  },
  {
   "cell_type": "markdown",
   "metadata": {},
   "source": [
    "dictionaries are mutable"
   ]
  },
  {
   "cell_type": "code",
   "execution_count": 29,
   "metadata": {},
   "outputs": [
    {
     "data": {
      "text/plain": [
       "{'A1': 80, 'A2': 90, 'A3': 70, 'A4': 85}"
      ]
     },
     "execution_count": 29,
     "metadata": {},
     "output_type": "execute_result"
    }
   ],
   "source": [
    "asn_to_grade['A4']=85\n",
    "asn_to_grade"
   ]
  },
  {
   "cell_type": "code",
   "execution_count": 30,
   "metadata": {},
   "outputs": [
    {
     "data": {
      "text/plain": [
       "{'A1': 80, 'A2': 90, 'A3': 70, 'A4': 90}"
      ]
     },
     "execution_count": 30,
     "metadata": {},
     "output_type": "execute_result"
    }
   ],
   "source": [
    "asn_to_grade['A4']=90\n",
    "asn_to_grade"
   ]
  },
  {
   "cell_type": "code",
   "execution_count": 31,
   "metadata": {},
   "outputs": [
    {
     "data": {
      "text/plain": [
       "3"
      ]
     },
     "execution_count": 31,
     "metadata": {},
     "output_type": "execute_result"
    }
   ],
   "source": [
    "del asn_to_grade['A4']\n",
    "len(asn_to_grade)"
   ]
  },
  {
   "cell_type": "code",
   "execution_count": 32,
   "metadata": {},
   "outputs": [
    {
     "data": {
      "text/plain": [
       "{'A1': 80, 'A2': 90, 'A3': 70}"
      ]
     },
     "execution_count": 32,
     "metadata": {},
     "output_type": "execute_result"
    }
   ],
   "source": [
    "asn_to_grade"
   ]
  },
  {
   "cell_type": "code",
   "execution_count": 33,
   "metadata": {},
   "outputs": [
    {
     "name": "stdout",
     "output_type": "stream",
     "text": [
      "A1\n",
      "A3\n",
      "A2\n"
     ]
    }
   ],
   "source": [
    "for assignment in asn_to_grade:\n",
    "    print(assignment)"
   ]
  },
  {
   "cell_type": "markdown",
   "metadata": {},
   "source": [
    "dictionaries are unordered"
   ]
  },
  {
   "cell_type": "code",
   "execution_count": 34,
   "metadata": {},
   "outputs": [
    {
     "name": "stdout",
     "output_type": "stream",
     "text": [
      "80\n",
      "70\n",
      "90\n"
     ]
    }
   ],
   "source": [
    "for assignment in asn_to_grade:\n",
    "    print(asn_to_grade[assignment])"
   ]
  },
  {
   "cell_type": "code",
   "execution_count": 35,
   "metadata": {},
   "outputs": [
    {
     "name": "stdout",
     "output_type": "stream",
     "text": [
      "A1 80\n",
      "A3 70\n",
      "A2 90\n"
     ]
    }
   ],
   "source": [
    "for assignment in asn_to_grade:\n",
    "    print(assignment, asn_to_grade[assignment])"
   ]
  },
  {
   "cell_type": "code",
   "execution_count": 36,
   "metadata": {
    "collapsed": true
   },
   "outputs": [],
   "source": [
    "d = {'apple': 2,5:8}"
   ]
  },
  {
   "cell_type": "markdown",
   "metadata": {},
   "source": [
    "- keys must be immutable\n",
    "- so you can't use `list` as key\n",
    "- but you can use `tuple` as key because `tuple` is immutable "
   ]
  },
  {
   "cell_type": "code",
   "execution_count": 38,
   "metadata": {},
   "outputs": [
    {
     "ename": "TypeError",
     "evalue": "unhashable type: 'list'",
     "output_type": "error",
     "traceback": [
      "\u001b[0;31m---------------------------------------------------------------------------\u001b[0m",
      "\u001b[0;31mTypeError\u001b[0m                                 Traceback (most recent call last)",
      "\u001b[0;32m<ipython-input-38-a3477682787e>\u001b[0m in \u001b[0;36m<module>\u001b[0;34m()\u001b[0m\n\u001b[0;32m----> 1\u001b[0;31m \u001b[0md\u001b[0m\u001b[0;34m[\u001b[0m\u001b[0;34m[\u001b[0m\u001b[0;36m1\u001b[0m\u001b[0;34m,\u001b[0m\u001b[0;36m2\u001b[0m\u001b[0;34m]\u001b[0m\u001b[0;34m]\u001b[0m \u001b[0;34m=\u001b[0m \u001b[0;34m'banana'\u001b[0m\u001b[0;34m\u001b[0m\u001b[0m\n\u001b[0m",
      "\u001b[0;31mTypeError\u001b[0m: unhashable type: 'list'"
     ]
    }
   ],
   "source": [
    "d[[1,2]] = 'banana'"
   ]
  },
  {
   "cell_type": "code",
   "execution_count": 39,
   "metadata": {
    "collapsed": true
   },
   "outputs": [],
   "source": [
    "d[(1,2)]=\"banana\""
   ]
  },
  {
   "cell_type": "code",
   "execution_count": 46,
   "metadata": {
    "collapsed": true
   },
   "outputs": [],
   "source": [
    "def increment_values(d):\n",
    "    ''' (dict with number values) -> NoneType\n",
    "    \n",
    "    Increase each value in d by 1.\n",
    "    '''\n",
    "    for k in d:\n",
    "        d[k] = d[k] +1"
   ]
  },
  {
   "cell_type": "code",
   "execution_count": 47,
   "metadata": {},
   "outputs": [
    {
     "data": {
      "text/plain": [
       "{'A1': 81, 'A2': 91, 'A3': 71}"
      ]
     },
     "execution_count": 47,
     "metadata": {},
     "output_type": "execute_result"
    }
   ],
   "source": [
    "increment_values(asn_to_grade)\n",
    "asn_to_grade"
   ]
  },
  {
   "cell_type": "markdown",
   "metadata": {},
   "source": [
    "# Inverting a dictionary"
   ]
  },
  {
   "cell_type": "code",
   "execution_count": 54,
   "metadata": {},
   "outputs": [],
   "source": [
    "fruit_to_colour = {\n",
    "    'banana' : 'yellow',\n",
    "    'cherry' : 'red',\n",
    "    'orange' : 'orange',\n",
    "    'pear' : 'green',\n",
    "    'peach' : 'orange',\n",
    "    'plum' : 'purple',\n",
    "    'pomegranate' : 'red',\n",
    "    'strawberry' : 'red'\n",
    "}\n",
    "\n",
    "# Invert fruit_to_color\n",
    "# want to map color to fruit\n",
    "\n",
    "colour_to_fruit = {}\n",
    "for fruit in fruit_to_colour:\n",
    "    colour = fruit_to_colour[fruit]\n",
    "    colour_to_fruit[colour] = fruit"
   ]
  },
  {
   "cell_type": "code",
   "execution_count": 55,
   "metadata": {},
   "outputs": [
    {
     "data": {
      "text/plain": [
       "{'green': 'pear',\n",
       " 'orange': 'peach',\n",
       " 'purple': 'plum',\n",
       " 'red': 'strawberry',\n",
       " 'yellow': 'banana'}"
      ]
     },
     "execution_count": 55,
     "metadata": {},
     "output_type": "execute_result"
    }
   ],
   "source": [
    "# there are duplicate color so we will miss some record \n",
    "# because key has to be unique\n",
    "colour_to_fruit"
   ]
  },
  {
   "cell_type": "code",
   "execution_count": 57,
   "metadata": {},
   "outputs": [],
   "source": [
    "colour_to_fruit = {}\n",
    "for fruit in fruit_to_colour:\n",
    "    colour = fruit_to_colour[fruit]\n",
    "    # if colour is not already a key in the accumulator,\n",
    "    # add colour: [fruit] as an entry.\n",
    "    if not (colour in colour_to_fruit):\n",
    "        colour_to_fruit[colour] = [fruit]\n",
    "    # otherwise, append fruit to the existing list\n",
    "    else:\n",
    "        colour_to_fruit[colour].append(fruit)"
   ]
  },
  {
   "cell_type": "code",
   "execution_count": 58,
   "metadata": {},
   "outputs": [
    {
     "data": {
      "text/plain": [
       "{'green': ['pear'],\n",
       " 'orange': ['orange', 'peach'],\n",
       " 'purple': ['plum'],\n",
       " 'red': ['cherry', 'pomegranate', 'strawberry'],\n",
       " 'yellow': ['banana']}"
      ]
     },
     "execution_count": 58,
     "metadata": {},
     "output_type": "execute_result"
    }
   ],
   "source": [
    "colour_to_fruit"
   ]
  },
  {
   "cell_type": "code",
   "execution_count": 59,
   "metadata": {},
   "outputs": [
    {
     "data": {
      "text/plain": [
       "['orange', 'peach']"
      ]
     },
     "execution_count": 59,
     "metadata": {},
     "output_type": "execute_result"
    }
   ],
   "source": [
    "colour_to_fruit['orange']"
   ]
  },
  {
   "cell_type": "code",
   "execution_count": 65,
   "metadata": {},
   "outputs": [],
   "source": [
    "from tkinter.filedialog import askopenfile\n",
    "def read_grades(gradefile):\n",
    "    ''' (fili open for reading) -> dict of {float: list of str}\n",
    "    \n",
    "    Read the grades from gradefile and return a dictionary where each key is a grade \n",
    "    and each value is the list of ids of students who earned that grade.\n",
    "    \n",
    "    Precondition: gradefile starts with a header that contains no blank lines, \n",
    "    then has a blank line, and then lines containing a student number and a grade\n",
    "    '''\n",
    "    \n",
    "    # skip over the header.\n",
    "    line = gradefile.readline()\n",
    "    while line != '\\n':\n",
    "        line = gradefile.readline()\n",
    "    \n",
    "    # read the grades, accumulating them into a dict\n",
    "    \n",
    "    grade_to_ids = {}\n",
    "    line = gradefile.readline()\n",
    "    \n",
    "    while line != '':\n",
    "        student_id = line[:4]\n",
    "        grade = float(line[4:].strip())\n",
    "        if not (grade in grade_to_ids):\n",
    "            grade_to_ids[grade] = [student_id]\n",
    "        else:\n",
    "            grade_to_ids[grade].append(student_id)\n",
    "        line = gradefile.readline()\n",
    "    \n",
    "    return grade_to_ids"
   ]
  },
  {
   "cell_type": "code",
   "execution_count": 66,
   "metadata": {},
   "outputs": [],
   "source": [
    "gradefile = open('data/gradesfile.txt')\n",
    "grade_dic = read_grades(gradefile)"
   ]
  },
  {
   "cell_type": "code",
   "execution_count": 70,
   "metadata": {},
   "outputs": [
    {
     "data": {
      "text/plain": [
       "['8648',\n",
       " '4010',\n",
       " '8481',\n",
       " '4531',\n",
       " '5061',\n",
       " '4679',\n",
       " '2079',\n",
       " '2808',\n",
       " '5040',\n",
       " '5365',\n",
       " '3415']"
      ]
     },
     "execution_count": 70,
     "metadata": {},
     "output_type": "execute_result"
    }
   ],
   "source": [
    "grade_dic[66.0]"
   ]
  },
  {
   "cell_type": "code",
   "execution_count": null,
   "metadata": {
    "collapsed": true
   },
   "outputs": [],
   "source": []
  }
 ],
 "metadata": {
  "kernelspec": {
   "display_name": "Python 3",
   "language": "python",
   "name": "python3"
  },
  "language_info": {
   "codemirror_mode": {
    "name": "ipython",
    "version": 3
   },
   "file_extension": ".py",
   "mimetype": "text/x-python",
   "name": "python",
   "nbconvert_exporter": "python",
   "pygments_lexer": "ipython3",
   "version": "3.6.3"
  }
 },
 "nbformat": 4,
 "nbformat_minor": 2
}
