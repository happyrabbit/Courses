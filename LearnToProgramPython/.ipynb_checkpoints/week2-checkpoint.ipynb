{
 "cells": [
  {
   "cell_type": "markdown",
   "metadata": {},
   "source": [
    "## Strings\n",
    "### Type `str`\n",
    "\n",
    "- _string literal_: a sequence of characters\n",
    "- `str`: Python's string type\n",
    "-  strings start and end with' or \"\n",
    "- strings are values\n",
    "\n",
    "**Escape Sequences**\n",
    "\n",
    "To include a quote within a string, use an escape character (\\) before it. Otherwise Python interprets that quote as the end of a string and an error occurs. "
   ]
  },
  {
   "cell_type": "markdown",
   "metadata": {},
   "source": [
    "The escape sequence \\' indicates that the second quote is simply a quote, not the end of the string:"
   ]
  },
  {
   "cell_type": "code",
   "execution_count": 7,
   "metadata": {},
   "outputs": [
    {
     "data": {
      "text/plain": [
       "\"Wow, you're dripping wet\""
      ]
     },
     "execution_count": 7,
     "metadata": {},
     "output_type": "execute_result"
    }
   ],
   "source": [
    "'Wow, you\\'re dripping wet'"
   ]
  },
  {
   "cell_type": "markdown",
   "metadata": {},
   "source": [
    "An alternative approach is to use a double-quoted string when including a single-quote within it, or vice-versa. Single- and double-quoted strings are equivalent. For example, when we used double-quotes to indicate the beginning and end of the string, the single-quote in you're no longer causes an error:"
   ]
  },
  {
   "cell_type": "code",
   "execution_count": 8,
   "metadata": {},
   "outputs": [
    {
     "data": {
      "text/plain": [
       "\"Wow, you're dripping wet.\""
      ]
     },
     "execution_count": 8,
     "metadata": {},
     "output_type": "execute_result"
    }
   ],
   "source": [
    "\"Wow, you're dripping wet.\""
   ]
  },
  {
   "cell_type": "markdown",
   "metadata": {},
   "source": [
    "**String Operators**\n",
    "\n",
    "| Expression | Description| Example | Output |\n",
    "| --- | --- | --- | --- |\n",
    "| `str1 + str2` |concatenate `str1` and `str1` | `print('ab' + 'c')` |\t `abc`|\n",
    "| `str1 * int1`| concatenate `int1` copies of `str1` |\t`print('a' * 5)` |\t`aaaaa` |\n",
    "| `int1 * str1` |\tconcatenate `int1` copies of `str1`\t| `print(4 * 'bc')` |\t`bcbcbcbc` |\n",
    "\n",
    "Note: concatenate means to join together\n",
    "\n",
    "The * and + operands obey by the standard precedence rules when used with strings.\n",
    "\n",
    "All other mathematical operators and operands result in a TypeError."
   ]
  },
  {
   "cell_type": "markdown",
   "metadata": {
    "collapsed": true
   },
   "source": [
    "## Function Design Recipe\n",
    "\n",
    "## The Six Steps\n",
    "\n",
    "- **Examples**\n",
    "    - What should your function do?\n",
    "    - Type a couple of example calls.\n",
    "    - Pick a name (often a verb or verb phrase): What is a short answer to \"What does your function do\"?\n",
    "- **Type Contract**\n",
    "    - What are the parameter types?\n",
    "    - What type of value is returned?\n",
    "- **Header**\n",
    "    - Pick meaningful parameter names.\n",
    "- **Description**\n",
    "    - Mention every parameter in your description.\n",
    "    - Describe the return value.\n",
    "- **Body**\n",
    "    - Write the body of your function.\n",
    "- **Test**\n",
    "    - Run the examples.\n",
    "\n",
    "## Applying the Design Recipe\n",
    "\n",
    "**The problem:**\n",
    "\n",
    "The United States measures temperature in Fahrenheit and Canada measures it in Celsius. When travelling between the two countries it helps to have a conversion function. Write a function that converts from Fahrenheit to Celsius.\n",
    "\n",
    "1. Examples\n",
    "   \n",
    "    `>>> convert_to_celsius(32)`\n",
    "    `0`\n",
    "    `>>> convert_to_celsius(212)`\n",
    "    `100`\n",
    "    \n",
    "2. Type Contract\n",
    "    `(number) -> number`\n",
    "    \n",
    "3. Header\n",
    "    `def convert_to_celsius(fahrenheit):`\n",
    "    \n",
    "4. Description\n",
    "    `Return the number of Celsius degrees equivalent to fahrenheit degrees.`\n",
    "    \n",
    "5. Body\n",
    "        return (fahrenheit - 32) * 5 / 9\n",
    "    \n",
    "6. Test\n",
    "      `Run the examples.`   \n",
    "    \n",
    "**Putting it all together:**\n",
    "\n",
    "<pre>def convert_to_celsius(fahrenheit):\n",
    "   ''' (number) -> number\n",
    "   \n",
    "   Return the number of Celsius degrees equivalent to fahrenheit degrees.\n",
    "   \n",
    "   >>> convert_to_ccelsius(32)\n",
    "   0\n",
    "   >>> convert_to_celsius(212)\n",
    "   100\n",
    "   '''\n",
    "   \n",
    "   return (fahrenheit - 32) * 5 / 9\n",
    " </pre>"
   ]
  },
  {
   "cell_type": "markdown",
   "metadata": {},
   "source": [
    "### Function Reuse"
   ]
  },
  {
   "cell_type": "code",
   "execution_count": 4,
   "metadata": {
    "collapsed": true
   },
   "outputs": [],
   "source": [
    "def area(base, height):\n",
    "    ''' (number, number) -> number\n",
    "    \n",
    "    Return the area of a triangle with given base and height.\n",
    "    \n",
    "    >>> area(10, 40)\n",
    "    200.0\n",
    "    >>> area(3.4, 7.5)\n",
    "    12.75\n",
    "    '''\n",
    "    return base * height / 2"
   ]
  },
  {
   "cell_type": "code",
   "execution_count": 5,
   "metadata": {
    "collapsed": true
   },
   "outputs": [],
   "source": [
    "def perimeter(side1, side2, side3):\n",
    "    '''(number, number, number) -> number\n",
    "    \n",
    "    Return the perimeter of the triangle with sides of length side1, side2 and side3.\n",
    "    \n",
    "    >>> perimeter(3, 4, 5)\n",
    "    12\n",
    "    >>> perimeter(10.5, 6, 9.3)\n",
    "    25.8\n",
    "    '''\n",
    "    return side1 + side2 + side3"
   ]
  },
  {
   "cell_type": "code",
   "execution_count": 10,
   "metadata": {
    "collapsed": true
   },
   "outputs": [],
   "source": [
    "def semiperimeter(side1, side2, side3):\n",
    "    ''' (number, number, number) -> float\n",
    "    \n",
    "    Return the semiperimeter of a triangle with sides of length side1, side2 and side3.\n",
    "    \n",
    "    >>> semiperimeter(3, 4, 5)\n",
    "    6.0\n",
    "    >>> semiperimeter(10.5, 6, 9.3)\n",
    "    12.9\n",
    "    '''\n",
    "    return perimeter(side1, side2, side3)/2\n"
   ]
  },
  {
   "cell_type": "code",
   "execution_count": null,
   "metadata": {
    "collapsed": true
   },
   "outputs": [],
   "source": []
  }
 ],
 "metadata": {
  "kernelspec": {
   "display_name": "Python 3",
   "language": "python",
   "name": "python3"
  },
  "language_info": {
   "codemirror_mode": {
    "name": "ipython",
    "version": 3
   },
   "file_extension": ".py",
   "mimetype": "text/x-python",
   "name": "python",
   "nbconvert_exporter": "python",
   "pygments_lexer": "ipython3",
   "version": "3.6.2"
  }
 },
 "nbformat": 4,
 "nbformat_minor": 2
}
