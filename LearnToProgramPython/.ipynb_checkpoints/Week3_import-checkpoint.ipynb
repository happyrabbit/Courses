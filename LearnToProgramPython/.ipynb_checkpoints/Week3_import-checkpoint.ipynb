{
 "cells": [
  {
   "cell_type": "markdown",
   "metadata": {},
   "source": [
    "# Import: Using Non-Builtin Functions\n",
    "\n",
    "## Modules\n",
    "\n",
    "Python contains many functions, but not all of them are immediately available as builtin functions. Instead of being available as builtins, some functions are saved in different modules. \n",
    "\n",
    "> A **module** is a file containing function definitions and other statements.\n",
    "\n",
    "We may also define our own modules with our own functions.\n",
    "\n",
    "## import\n",
    "\n",
    "In order to gain access to the functions in a module, we must import that module.\n",
    "\n",
    "The general form of an import statement is:\n",
    "\n",
    "`import module_name`\n",
    "\n",
    "To access a function within a module, we use:\n",
    "\n",
    "`module_name.function_name`\n",
    "\n",
    "For example, we can import the Python module math and call the function sqrt from it:"
   ]
  },
  {
   "cell_type": "code",
   "execution_count": 5,
   "metadata": {},
   "outputs": [],
   "source": [
    "# module math is part of python\n",
    "# contain functions that are math related\n",
    "import math"
   ]
  },
  {
   "cell_type": "code",
   "execution_count": 8,
   "metadata": {},
   "outputs": [],
   "source": [
    "def area2(side1, side2, side3):\n",
    "        semi = semiperimeter(side1, side2, side3)\n",
    "        area = math.sqrt(semi * (semi - side1) * (semi - side2) * (semi - side3))\n",
    "        return area"
   ]
  },
  {
   "cell_type": "markdown",
   "metadata": {},
   "source": [
    "In addition to importing Python's modules, we can also import the modules that we write. For example, to use the functions from `triangle.py` in another module, we would `import triangle`. A module being imported should be in the same directory as the module importing it."
   ]
  }
 ],
 "metadata": {
  "kernelspec": {
   "display_name": "Python 3",
   "language": "python",
   "name": "python3"
  },
  "language_info": {
   "codemirror_mode": {
    "name": "ipython",
    "version": 3
   },
   "file_extension": ".py",
   "mimetype": "text/x-python",
   "name": "python",
   "nbconvert_exporter": "python",
   "pygments_lexer": "ipython3",
   "version": "3.6.3"
  }
 },
 "nbformat": 4,
 "nbformat_minor": 2
}
