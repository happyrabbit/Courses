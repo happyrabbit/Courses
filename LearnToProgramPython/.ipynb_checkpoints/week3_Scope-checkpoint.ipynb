{
 "cells": [
  {
   "cell_type": "markdown",
   "metadata": {},
   "source": [
    "# Functions, Variables, and the Call Stack\n",
    "## Understanding Scope\n",
    "\n",
    "<pre>\n",
    "1 def convert_to_minutes(num_hours):\n",
    "2    \"\"\" (int) -> int\n",
    "3    Return the number of minutes there are in num_hours hours.\n",
    "4    \"\"\"\n",
    "5    minutes = num_hours * 60\n",
    "6    return minutes\n",
    "7\n",
    "8 def convert_to_seconds(num_hours):\n",
    "9     \"\"\" (int) -> int\n",
    "10    Return the number of seconds there are in num_hours hours.\n",
    "11    \"\"\"\n",
    "12    minutes = convert_to_minutes(num_hours)\n",
    "13    seconds = minutes * 60\n",
    "14    return seconds\n",
    "15\n",
    "16 seconds = convert_to_seconds(2) \n",
    "</pre>\n",
    "\n",
    "1. Python defines the first two functions, creates objects for them in the heap, and, in the stack frame for the main program, creates variables that refer to those function objects.\n",
    "2. After that, it executes the assignment statement. The right-hand side of the assignment statement is a function call so we evaluate the argument, 2, first. The frame for `convert_to_seconds` will appear on the call stack. The parameter, `num_hours`, will refer to the value 2.\n",
    "3. The first statement in function `convert_to_seconds` is an assignment statement. Again, we evaluate the expression on the right-hand side. This is a function call so we evaluate the argument, `num_hours`. This produces the value 2. A stack frame for function `convert_to_minutes` is created on the call stack. Python stores the memory address of 2 in the parameter for `convert_to_minutes`, which also happens to be called `num_hours`.\n",
    "4. We now see that there are two variables called `num_hours` in the call stack; one is in `convert_to_minutes` and the other is in `convert_to_seconds`.\n",
    "5. The next line of code Python executes is `minutes = num_hours * 60`. However, which instance of num_hours will be used? Python always uses the variable in the current stack frame. With an assignment statement, if the variable does not exist in the current stack frame, Python creates it. So, once `num_hours * 60` is evaluated, variable minutes is created in the current stack frame.\n",
    "6. The last line of the function is return minutes. Once this statement is complete, Python will return to the frame just underneath the top of the call stack.\n",
    "7. So, Python is going to produce the value 120, remove the current stack frame, create a new variable called minutes in the stack frame for `convert_to_seconds`, and store the memory adress of 120 in that variable.\n",
    "8. Python then executes `seconds = minutes * 60`. Python evaluates the right-hand side, which produces 7200, and stores the memory address of that value in variable seconds. Since this variable does not exist yet, Python creates it in the current stack frame. \n",
    "9. Next is a return statement. Like we saw above, that is going to return control back to the the main module.\n",
    "10. Once the frame for `convert_to_seconds` is removed, the assignment statement on line 16 (which has been paused a long time!) is completed, and a new variable `seconds` is created in the stack frame for the main program.\n",
    "\n",
    "\n",
    "\n",
    "## Notes and assignment and return statements\n",
    "\n",
    "- Assignment statement and computer memory\n",
    "\n",
    "   <pre>variable = expression</pre>\n",
    "\n",
    "If a variable does not exist in the current stack frame, Python creates it.\n",
    "\n",
    "- Return statement and computer memory\n",
    "\n",
    "   <pre>return expression</pre>\n",
    "\n",
    "In addition to evaluating the expression and yielding its value, return also erases the stack frame on top of the call stack."
   ]
  },
  {
   "cell_type": "code",
   "execution_count": null,
   "metadata": {},
   "outputs": [],
   "source": []
  }
 ],
 "metadata": {
  "kernelspec": {
   "display_name": "Python 3",
   "language": "python",
   "name": "python3"
  },
  "language_info": {
   "codemirror_mode": {
    "name": "ipython",
    "version": 3
   },
   "file_extension": ".py",
   "mimetype": "text/x-python",
   "name": "python",
   "nbconvert_exporter": "python",
   "pygments_lexer": "ipython3",
   "version": "3.6.3"
  }
 },
 "nbformat": 4,
 "nbformat_minor": 2
}
